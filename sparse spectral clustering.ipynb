{
 "cells": [
  {
   "cell_type": "code",
   "execution_count": 3,
   "metadata": {},
   "outputs": [
    {
     "ename": "ImportError",
     "evalue": "cannot import name 'show_config' from 'numpy' (unknown location)",
     "output_type": "error",
     "traceback": [
      "\u001b[1;31m---------------------------------------------------------------------------\u001b[0m",
      "\u001b[1;31mImportError\u001b[0m                               Traceback (most recent call last)",
      "\u001b[1;32mc:\\Users\\LQY\\Desktop\\spectral clustering\\sparse spectral clustering.ipynb Cell 1'\u001b[0m in \u001b[0;36m<cell line: 2>\u001b[1;34m()\u001b[0m\n\u001b[0;32m      <a href='vscode-notebook-cell:/c%3A/Users/LQY/Desktop/spectral%20clustering/sparse%20spectral%20clustering.ipynb#ch0000000?line=0'>1</a>\u001b[0m \u001b[39mimport\u001b[39;00m \u001b[39mnumpy\u001b[39;00m \u001b[39mas\u001b[39;00m \u001b[39mnp\u001b[39;00m \n\u001b[1;32m----> <a href='vscode-notebook-cell:/c%3A/Users/LQY/Desktop/spectral%20clustering/sparse%20spectral%20clustering.ipynb#ch0000000?line=1'>2</a>\u001b[0m \u001b[39mimport\u001b[39;00m \u001b[39mscipy\u001b[39;00m\u001b[39m.\u001b[39;00m\u001b[39mlinalg\u001b[39;00m\n\u001b[0;32m      <a href='vscode-notebook-cell:/c%3A/Users/LQY/Desktop/spectral%20clustering/sparse%20spectral%20clustering.ipynb#ch0000000?line=2'>3</a>\u001b[0m \u001b[39mfrom\u001b[39;00m \u001b[39mscipy\u001b[39;00m \u001b[39mimport\u001b[39;00m sparse\n\u001b[0;32m      <a href='vscode-notebook-cell:/c%3A/Users/LQY/Desktop/spectral%20clustering/sparse%20spectral%20clustering.ipynb#ch0000000?line=3'>4</a>\u001b[0m \u001b[39mimport\u001b[39;00m \u001b[39mmatplotlib\u001b[39;00m\u001b[39m.\u001b[39;00m\u001b[39mpyplot\u001b[39;00m \u001b[39mas\u001b[39;00m \u001b[39mplt\u001b[39;00m\n",
      "File \u001b[1;32md:\\Miniconda3\\envs\\Qiskit\\lib\\site-packages\\scipy\\__init__.py:67\u001b[0m, in \u001b[0;36m<module>\u001b[1;34m\u001b[0m\n\u001b[0;32m     62\u001b[0m     \u001b[39mreturn\u001b[39;00m [\u001b[39m'\u001b[39m\u001b[39mLowLevelCallable\u001b[39m\u001b[39m'\u001b[39m, \u001b[39m'\u001b[39m\u001b[39mtest\u001b[39m\u001b[39m'\u001b[39m]\n\u001b[0;32m     65\u001b[0m __all__ \u001b[39m=\u001b[39m \u001b[39m__dir__\u001b[39m()\n\u001b[1;32m---> 67\u001b[0m \u001b[39mfrom\u001b[39;00m \u001b[39mnumpy\u001b[39;00m \u001b[39mimport\u001b[39;00m show_config \u001b[39mas\u001b[39;00m show_numpy_config\n\u001b[0;32m     68\u001b[0m \u001b[39mif\u001b[39;00m show_numpy_config \u001b[39mis\u001b[39;00m \u001b[39mNone\u001b[39;00m:\n\u001b[0;32m     69\u001b[0m     \u001b[39mraise\u001b[39;00m \u001b[39mImportError\u001b[39;00m(\n\u001b[0;32m     70\u001b[0m         \u001b[39m\"\u001b[39m\u001b[39mCannot import SciPy when running from NumPy source directory.\u001b[39m\u001b[39m\"\u001b[39m)\n",
      "\u001b[1;31mImportError\u001b[0m: cannot import name 'show_config' from 'numpy' (unknown location)"
     ]
    }
   ],
   "source": [
    "import numpy as np \n",
    "import scipy.linalg\n",
    "from scipy import sparse\n",
    "import matplotlib.pyplot as plt\n",
    "from sklearn import datasets\n",
    "import heapq\n",
    "%matplotlib inline"
   ]
  },
  {
   "cell_type": "code",
   "execution_count": 2,
   "metadata": {},
   "outputs": [],
   "source": [
    "#operator的类\n",
    "class operator:\n",
    "    def __init__(self, target, op):\n",
    "        self.target = target\n",
    "        self.op = op\n",
    "        self.flag = 0"
   ]
  },
  {
   "cell_type": "code",
   "execution_count": 3,
   "metadata": {},
   "outputs": [],
   "source": [
    "#control operator\n",
    "class ctroperator:\n",
    "    def __init__(self, control, target, op):\n",
    "        self.target = target \n",
    "        self.control = control\n",
    "        self.op = op\n",
    "        self.flag = 0  "
   ]
  },
  {
   "cell_type": "code",
   "execution_count": 4,
   "metadata": {},
   "outputs": [],
   "source": [
    "class Qcircuit:\n",
    "    qubits = 0\n",
    "    def __init__(self, N):\n",
    "        self.gatelist=[]\n",
    "        Qcircuit.qubits = N\n",
    "    def add_ctr_op(self, control, target, op):\n",
    "        tmp = ctroperator(control, target, op)\n",
    "        self.gatelist.append(tmp)\n",
    "    def add_op(self, target, op):\n",
    "        tmp = operator(target, op)\n",
    "        self.gatelist.append(tmp)\n",
    "\n",
    "    def computing(self,state):\n",
    "         for i in self.gatelist:\n",
    "             if isinstance(i,operator):\n",
    "                 if isinstance(i.target,list):\n",
    "                    state=self.computing_IU(i.op,state,i.target[0])\n",
    "                 else:\n",
    "                    state=self.computing_IU(i.op,state,i.target)\n",
    "             elif isinstance(i,ctroperator):\n",
    "                 state=self.computing_CU(i,state)\n",
    "         return state\n",
    "    def AddOp(self,op):\n",
    "        self.gatelist.append(op)\n",
    "    \n",
    "    def computing_IU(self,gate,state,pos):\n",
    "        A=self.qubits-pos\n",
    "        for i in range(2**pos):\n",
    "            state[i*2**(A):(i+1)*2**(A)]=self.computing_UI(gate,state[i*2**(A):(i+1)*2**(A)])\n",
    "        return state\n",
    "\n",
    "    def computing_UI(self,gate,state):\n",
    "        N=np.shape(gate)[0]\n",
    "        rho=np.reshape(state,(N,-1))\n",
    "        rho=np.dot(gate,rho)\n",
    "        return np.reshape(rho,(-1))\n",
    "\n",
    "    def computing_CU(self,gate,state):\n",
    "        state1=state.copy()\n",
    "        state1=self.computing_IU(Up,state1,gate.control)\n",
    "        state=self.computing_IU(Down,state,gate.control)\n",
    "        state=self.computing_IU(gate.op,state,gate.target[0])\n",
    "        return state+state1"
   ]
  },
  {
   "cell_type": "code",
   "execution_count": 5,
   "metadata": {},
   "outputs": [],
   "source": [
    "#is hermitian?\n",
    "def ishermit(matrix):\n",
    "    if (matrix == matrix.conj().T).all():\n",
    "        return True\n",
    "    else:\n",
    "        return False"
   ]
  },
  {
   "cell_type": "code",
   "execution_count": 6,
   "metadata": {},
   "outputs": [],
   "source": [
    "def ctr_U(H,N):\n",
    "    I = np.identity(H.shape[0])\n",
    "    for i in range(2**N):\n",
    "        I = np.dot(I,H)\n",
    "    return I"
   ]
  },
  {
   "cell_type": "code",
   "execution_count": 7,
   "metadata": {},
   "outputs": [],
   "source": [
    "def inv_R_k(k):\n",
    "    return np.array([[1,0],[0,np.exp(-2*np.pi*1j/np.power(2,k))]])"
   ]
  },
  {
   "cell_type": "code",
   "execution_count": 8,
   "metadata": {},
   "outputs": [],
   "source": [
    "X=np.array([[0,1],[1,0]])\n",
    "H=np.array([[1,1],[1,-1]])/np.sqrt(2)\n",
    "Up=np.array([[1,0],[0,0]])\n",
    "Down=np.array([[0,0],[0,1]])"
   ]
  },
  {
   "cell_type": "code",
   "execution_count": 9,
   "metadata": {},
   "outputs": [],
   "source": [
    "def moons(N,noise,k):\n",
    "    moon = datasets.make_moons(N,noise=noise)\n",
    "    point_sites = moon[0]\n",
    "    index_list = []\n",
    "    for i in point_sites:\n",
    "        tmp = -1*np.sqrt(np.sum(np.square(i-point_sites),axis = 1))\n",
    "        index_list.append(heapq.nlargest(k,range(N),tmp.take))\n",
    "    W = np.zeros((N,N))\n",
    "    for i in index_list:\n",
    "        for j in range(1,k):\n",
    "            if i[0] in index_list[i[j]]:\n",
    "                W[i[0]][i[j]] = 1\n",
    "    return W , moon"
   ]
  },
  {
   "cell_type": "code",
   "execution_count": 10,
   "metadata": {},
   "outputs": [],
   "source": [
    "def gendata(N,data,k):\n",
    "    point_sites = data[0]\n",
    "    index_list = []\n",
    "    for i in point_sites:\n",
    "        tmp = -1*np.sqrt(np.sum(np.square(i-point_sites),axis = 1))\n",
    "        index_list.append(heapq.nlargest(k,range(N),tmp.take))\n",
    "    W = np.zeros((N,N))\n",
    "    for i in index_list:\n",
    "        for j in range(1,k):\n",
    "            if i[0] in index_list[i[j]]:\n",
    "                #W[i[0]][i[j]] = -np.linalg.norm(point_sites[i[0]]-point_sites[i[j]])\n",
    "                W[i[0]][i[j]] = 1\n",
    "    return W"
   ]
  },
  {
   "cell_type": "code",
   "execution_count": 11,
   "metadata": {},
   "outputs": [],
   "source": [
    "def Laplace(W):\n",
    "    diagment = np.sum(W,axis=1)\n",
    "    D=np.diag(diagment)\n",
    "    return (D-W)/(2*np.max(diagment))"
   ]
  },
  {
   "cell_type": "code",
   "execution_count": 12,
   "metadata": {},
   "outputs": [],
   "source": [
    "phase = 9\n",
    "system = 8\n",
    "N=phase + 2*system\n",
    "qpe=Qcircuit(N)"
   ]
  },
  {
   "cell_type": "code",
   "execution_count": 13,
   "metadata": {},
   "outputs": [],
   "source": [
    "W, moon = moons(256,0.1,12)\n",
    "blobs = datasets.make_blobs(2**system,n_features=2,centers=2,random_state=2)\n",
    "W = gendata(2**system,blobs,k=4)\n",
    "\n",
    "x, y = datasets.make_blobs(n_samples=2**system, random_state=3,centers=3)\n",
    "transformation =np.array([[0.8, -0.9], [-0, 1]])\n",
    "X_aniso = np.dot(x, transformation)\n",
    "aniso = (X_aniso, y)\n",
    "W=gendata(2**system,aniso,k=14)"
   ]
  },
  {
   "cell_type": "code",
   "execution_count": null,
   "metadata": {},
   "outputs": [
    {
     "ename": "",
     "evalue": "",
     "output_type": "error",
     "traceback": [
      "\u001b[1;31mPython 3.9.7 ('base') 需要安装 ipykernel。\n",
      "Run the following command to install 'ipykernel' into the Python environment. \n",
      "Command: 'conda install -n base ipykernel --update-deps --force-reinstall'"
     ]
    }
   ],
   "source": [
    "plt.scatter(aniso[0][:,0:1],aniso[0][:,1:2],color=\"#323278\",zorder=2,alpha = 1,)\n",
    "W, moon = moons(2**system,0.05,12)\n",
    "plt.scatter(moon[0][:,0:1],moon[0][:,1:2],color=\"#3A3A7A\",zorder=2)#808080\n",
    "for i in range(2**system):\n",
    "    z1=np.zeros((2,1))\n",
    "    z2=np.zeros((2,1))\n",
    "    for j in range(2**system):\n",
    "        if W[i,j]!=0:\n",
    "            z1[0],z2[0]=moon[0][i]\n",
    "            z1[1],z2[1]=moon[0][j]\n",
    "            plt.plot(z1,z2,color=\"#808CAA\",alpha = 0.5,linewidth=1,zorder=1) \n",
    "plt.show()\n",
    "plt.savefig(\"High 22.png\",dpi=600)"
   ]
  },
  {
   "cell_type": "code",
   "execution_count": 59,
   "metadata": {},
   "outputs": [],
   "source": [
    "L=Laplace(W)\n",
    "v,w=np.linalg.eigh(L)"
   ]
  },
  {
   "cell_type": "code",
   "execution_count": 31,
   "metadata": {},
   "outputs": [],
   "source": [
    "state3=state2[:2**(2*system)]"
   ]
  },
  {
   "cell_type": "code",
   "execution_count": 32,
   "metadata": {},
   "outputs": [
    {
     "data": {
      "text/plain": [
       "(0.2990109684909963+2.7338845802977347e-14j)"
      ]
     },
     "execution_count": 32,
     "metadata": {},
     "output_type": "execute_result"
    }
   ],
   "source": [
    "np.vdot(state3,np.kron(w[:,0],w[:,0]))**2"
   ]
  },
  {
   "cell_type": "code",
   "execution_count": 33,
   "metadata": {},
   "outputs": [
    {
     "data": {
      "text/plain": [
       "0.2990109684909936"
      ]
     },
     "execution_count": 33,
     "metadata": {},
     "output_type": "execute_result"
    }
   ],
   "source": [
    "np.abs(np.vdot(state3,np.kron(w[:,1],w[:,1])))**2"
   ]
  },
  {
   "cell_type": "code",
   "execution_count": 34,
   "metadata": {},
   "outputs": [
    {
     "name": "stdout",
     "output_type": "stream",
     "text": [
      "0.2990109684909963\n",
      "0.2990109684909936\n",
      "0.29901096849095055\n",
      "0.06929576505684372\n",
      "0.008531193683835942\n",
      "0.00485144482186002\n",
      "0.0013663432305265684\n",
      "0.0008919100350035635\n"
     ]
    }
   ],
   "source": [
    "for i in range(8):\n",
    "    print(np.abs(np.vdot(state3,np.kron(w[:,i],w[:,i])))**2)"
   ]
  },
  {
   "cell_type": "code",
   "execution_count": 35,
   "metadata": {},
   "outputs": [],
   "source": [
    "rho=np.reshape(state2,(2**phase,-1))\n",
    "H3=np.zeros((2**system,2**phase))\n",
    "for i in range(2**system):\n",
    "    # state1=rho[i,:]\n",
    "    for j in range(2**phase):\n",
    "        H3[i,j]=p(v[i],j)/2**(11)"
   ]
  },
  {
   "cell_type": "code",
   "execution_count": 36,
   "metadata": {},
   "outputs": [],
   "source": [
    "def neighbourhood(x):\n",
    "    x_tmp=x.copy()\n",
    "    q=np.random.choice(np.shape(x)[0])\n",
    "    if (x[q:q+1,:]==[1,0]).all():\n",
    "        x_tmp[q:q+1,:]=[0,1]\n",
    "\n",
    "    elif(x[q:q+1,:]==[0,1]).all():\n",
    "        x_tmp[q:q+1,:]=[1,0]\n",
    "    return x_tmp\n",
    "\n",
    "# #标准化\n",
    "def normalized(x):\n",
    "    row,column=np.shape(x)[0],np.shape(x)[1]\n",
    "    for i in range(column):\n",
    "        a=np.sqrt(np.sum(x,axis=0))\n",
    "        a[a==0] = 1\n",
    "    return x/a\n",
    "# def neighbourhood(x):\n",
    "#     x_tmp1=x.copy()\n",
    "#     x_tmp2=x.copy()\n",
    "#     q=np.random.choice(np.shape(x)[0])\n",
    "#     if (x[q:q+1,:]==[1,0,0]).all():\n",
    "#         x_tmp1[q:q+1,:]=[0,1,0]\n",
    "#         x_tmp2[q:q+1,:]=[0,0,1]\n",
    "\n",
    "#     elif(x[q:q+1,:]==[0,1,0]).all():\n",
    "#         x_tmp1[q:q+1,:]=[1,0,0]\n",
    "#         x_tmp2[q:q+1,:]=[0,0,1]       \n",
    "\n",
    "#     elif(x[q:q+1,:]==[0,0,1]).all():\n",
    "#         x_tmp1[q:q+1,:]=[0,1,0]\n",
    "#         x_tmp2[q:q+1,:]=[1,0,0]\n",
    "#     return x_tmp1,x_tmp2\n",
    "def ini_clustering(k,total):\n",
    "    I=np.eye(k)\n",
    "    x=np.eye(k)\n",
    "    for i in range(total//k-1):\n",
    "        x=np.vstack((x,I))\n",
    "    x=np.vstack((x,I[:total%k,:]))\n",
    "    return x"
   ]
  },
  {
   "cell_type": "code",
   "execution_count": 37,
   "metadata": {},
   "outputs": [],
   "source": [
    "def HYH(U,state):\n",
    "    rho=np.reshape(state,(2**system,2**system))\n",
    "    rho=np.dot(U,rho)\n",
    "    return np.reshape(rho,(-1))\n",
    "def ptrace(state,dim1,dim2):\n",
    "    #x=np.zeros((dim2,dim2),np.complex128)\n",
    "    rho=np.reshape(state,(dim1,-1))\n",
    "    return np.dot(rho.conj().T,rho)\n",
    "def ptrace1(rho,dim1,dim2):\n",
    "    x=np.zeros((dim1,dim1),np.complex128)\n",
    "    for i in range(dim2):\n",
    "        x+=rho[i*dim2:(i+1)*dim2,i*dim2:(i+1)*dim2]\n",
    "    return x"
   ]
  },
  {
   "cell_type": "code",
   "execution_count": 38,
   "metadata": {},
   "outputs": [],
   "source": [
    "rho1=ptrace(state2,2**phase,2**(2*system))"
   ]
  },
  {
   "cell_type": "code",
   "execution_count": 39,
   "metadata": {},
   "outputs": [],
   "source": [
    "rho=ptrace1(rho1,2**system,2**system)"
   ]
  },
  {
   "cell_type": "code",
   "execution_count": 40,
   "metadata": {},
   "outputs": [
    {
     "data": {
      "text/plain": [
       "(0.5980219369819897+9.860761315262648e-32j)"
      ]
     },
     "execution_count": 40,
     "metadata": {},
     "output_type": "execute_result"
    }
   ],
   "source": [
    "m3=np.outer(w[:,0],w[:,0])+np.outer(w[:,1],w[:,1])\n",
    "np.trace(np.dot(m3,rho))"
   ]
  },
  {
   "cell_type": "code",
   "execution_count": 41,
   "metadata": {},
   "outputs": [
    {
     "data": {
      "text/plain": [
       "1.0378296912955838"
      ]
     },
     "execution_count": 41,
     "metadata": {},
     "output_type": "execute_result"
    }
   ],
   "source": [
    "np.linalg.norm(rho-m3)"
   ]
  },
  {
   "cell_type": "code",
   "execution_count": 42,
   "metadata": {},
   "outputs": [
    {
     "name": "stdout",
     "output_type": "stream",
     "text": [
      "最大值: (0.5980219369819896+4.930380657631324e-32j) \n",
      "\n",
      "分类结果:\n",
      " [[0. 1.]\n",
      " [1. 0.]\n",
      " [0. 1.]\n",
      " [0. 1.]\n",
      " [0. 1.]\n",
      " [1. 0.]\n",
      " [1. 0.]\n",
      " [1. 0.]\n",
      " [0. 1.]\n",
      " [0. 1.]\n",
      " [1. 0.]\n",
      " [1. 0.]\n",
      " [1. 0.]\n",
      " [1. 0.]\n",
      " [0. 1.]\n",
      " [1. 0.]\n",
      " [0. 1.]\n",
      " [0. 1.]\n",
      " [0. 1.]\n",
      " [1. 0.]\n",
      " [0. 1.]\n",
      " [0. 1.]\n",
      " [0. 1.]\n",
      " [1. 0.]\n",
      " [1. 0.]\n",
      " [0. 1.]\n",
      " [1. 0.]\n",
      " [1. 0.]\n",
      " [0. 1.]\n",
      " [0. 1.]\n",
      " [1. 0.]\n",
      " [0. 1.]\n",
      " [1. 0.]\n",
      " [1. 0.]\n",
      " [1. 0.]\n",
      " [0. 1.]\n",
      " [0. 1.]\n",
      " [1. 0.]\n",
      " [0. 1.]\n",
      " [1. 0.]\n",
      " [1. 0.]\n",
      " [1. 0.]\n",
      " [0. 1.]\n",
      " [0. 1.]\n",
      " [0. 1.]\n",
      " [0. 1.]\n",
      " [1. 0.]\n",
      " [1. 0.]\n",
      " [1. 0.]\n",
      " [1. 0.]\n",
      " [1. 0.]\n",
      " [1. 0.]\n",
      " [1. 0.]\n",
      " [1. 0.]\n",
      " [1. 0.]\n",
      " [0. 1.]\n",
      " [1. 0.]\n",
      " [0. 1.]\n",
      " [1. 0.]\n",
      " [1. 0.]\n",
      " [0. 1.]\n",
      " [1. 0.]\n",
      " [1. 0.]\n",
      " [0. 1.]\n",
      " [0. 1.]\n",
      " [0. 1.]\n",
      " [0. 1.]\n",
      " [1. 0.]\n",
      " [0. 1.]\n",
      " [1. 0.]\n",
      " [1. 0.]\n",
      " [0. 1.]\n",
      " [0. 1.]\n",
      " [1. 0.]\n",
      " [1. 0.]\n",
      " [0. 1.]\n",
      " [1. 0.]\n",
      " [1. 0.]\n",
      " [0. 1.]\n",
      " [1. 0.]\n",
      " [0. 1.]\n",
      " [1. 0.]\n",
      " [0. 1.]\n",
      " [1. 0.]\n",
      " [1. 0.]\n",
      " [0. 1.]\n",
      " [0. 1.]\n",
      " [0. 1.]\n",
      " [1. 0.]\n",
      " [0. 1.]\n",
      " [0. 1.]\n",
      " [1. 0.]\n",
      " [1. 0.]\n",
      " [1. 0.]\n",
      " [0. 1.]\n",
      " [0. 1.]\n",
      " [0. 1.]\n",
      " [0. 1.]\n",
      " [0. 1.]\n",
      " [1. 0.]\n",
      " [1. 0.]\n",
      " [0. 1.]\n",
      " [1. 0.]\n",
      " [1. 0.]\n",
      " [0. 1.]\n",
      " [0. 1.]\n",
      " [1. 0.]\n",
      " [1. 0.]\n",
      " [0. 1.]\n",
      " [1. 0.]\n",
      " [1. 0.]\n",
      " [0. 1.]\n",
      " [1. 0.]\n",
      " [0. 1.]\n",
      " [0. 1.]\n",
      " [0. 1.]\n",
      " [1. 0.]\n",
      " [1. 0.]\n",
      " [0. 1.]\n",
      " [1. 0.]\n",
      " [1. 0.]\n",
      " [0. 1.]\n",
      " [1. 0.]\n",
      " [1. 0.]\n",
      " [1. 0.]\n",
      " [1. 0.]\n",
      " [0. 1.]\n",
      " [1. 0.]\n",
      " [0. 1.]\n",
      " [0. 1.]\n",
      " [0. 1.]\n",
      " [0. 1.]\n",
      " [0. 1.]\n",
      " [0. 1.]\n",
      " [0. 1.]\n",
      " [1. 0.]\n",
      " [1. 0.]\n",
      " [1. 0.]\n",
      " [0. 1.]\n",
      " [0. 1.]\n",
      " [1. 0.]\n",
      " [0. 1.]\n",
      " [1. 0.]\n",
      " [0. 1.]\n",
      " [0. 1.]\n",
      " [1. 0.]\n",
      " [0. 1.]\n",
      " [0. 1.]\n",
      " [0. 1.]\n",
      " [0. 1.]\n",
      " [1. 0.]\n",
      " [1. 0.]\n",
      " [1. 0.]\n",
      " [1. 0.]\n",
      " [1. 0.]\n",
      " [0. 1.]\n",
      " [1. 0.]\n",
      " [0. 1.]\n",
      " [1. 0.]\n",
      " [0. 1.]\n",
      " [1. 0.]\n",
      " [0. 1.]\n",
      " [0. 1.]\n",
      " [1. 0.]\n",
      " [0. 1.]\n",
      " [0. 1.]\n",
      " [0. 1.]\n",
      " [1. 0.]\n",
      " [1. 0.]\n",
      " [1. 0.]\n",
      " [1. 0.]\n",
      " [1. 0.]\n",
      " [0. 1.]\n",
      " [0. 1.]\n",
      " [0. 1.]\n",
      " [0. 1.]\n",
      " [0. 1.]\n",
      " [0. 1.]\n",
      " [1. 0.]\n",
      " [0. 1.]\n",
      " [1. 0.]\n",
      " [0. 1.]\n",
      " [0. 1.]\n",
      " [1. 0.]\n",
      " [1. 0.]\n",
      " [0. 1.]\n",
      " [0. 1.]\n",
      " [1. 0.]\n",
      " [0. 1.]\n",
      " [0. 1.]\n",
      " [1. 0.]\n",
      " [1. 0.]\n",
      " [1. 0.]\n",
      " [0. 1.]\n",
      " [1. 0.]\n",
      " [0. 1.]\n",
      " [1. 0.]\n",
      " [0. 1.]\n",
      " [1. 0.]\n",
      " [1. 0.]\n",
      " [1. 0.]\n",
      " [0. 1.]\n",
      " [0. 1.]\n",
      " [1. 0.]\n",
      " [0. 1.]\n",
      " [0. 1.]\n",
      " [1. 0.]\n",
      " [0. 1.]\n",
      " [1. 0.]\n",
      " [0. 1.]\n",
      " [1. 0.]\n",
      " [0. 1.]\n",
      " [1. 0.]\n",
      " [1. 0.]\n",
      " [1. 0.]\n",
      " [0. 1.]\n",
      " [1. 0.]\n",
      " [0. 1.]\n",
      " [0. 1.]\n",
      " [0. 1.]\n",
      " [0. 1.]\n",
      " [0. 1.]\n",
      " [0. 1.]\n",
      " [0. 1.]\n",
      " [0. 1.]\n",
      " [0. 1.]\n",
      " [0. 1.]\n",
      " [0. 1.]\n",
      " [1. 0.]\n",
      " [0. 1.]\n",
      " [0. 1.]\n",
      " [1. 0.]\n",
      " [1. 0.]\n",
      " [0. 1.]\n",
      " [1. 0.]\n",
      " [1. 0.]\n",
      " [1. 0.]\n",
      " [0. 1.]\n",
      " [0. 1.]\n",
      " [0. 1.]\n",
      " [1. 0.]\n",
      " [1. 0.]\n",
      " [0. 1.]\n",
      " [0. 1.]\n",
      " [0. 1.]\n",
      " [1. 0.]\n",
      " [1. 0.]\n",
      " [1. 0.]\n",
      " [1. 0.]\n",
      " [0. 1.]\n",
      " [1. 0.]\n",
      " [0. 1.]\n",
      " [1. 0.]\n",
      " [1. 0.]\n",
      " [1. 0.]\n",
      " [1. 0.]]\n"
     ]
    }
   ],
   "source": [
    "x = ini_clustering(2,2**system)\n",
    "tmp=0\n",
    "for j in range(2**(phase+2)):\n",
    "    x_tmp1=neighbourhood(x)\n",
    "    x_tmp_1=x_tmp1.copy()\n",
    "    x_tmp1=normalized(x_tmp1)\n",
    "    #state3=state2.copy()\n",
    "    m=x_tmp1.dot(x_tmp1.T)\n",
    "    # for i in range(2**phase):\n",
    "    #     state3[i*2**(2*system):(i+1)*2**(2*system)]=HYH(m,state3[i*2**(2*system):(i+1)*2**(2*system)])\n",
    "    # b1=np.vdot(state2,state3)\n",
    "    b1=np.trace(np.dot(m,rho))\n",
    "    if abs(b1) > tmp:\n",
    "        tmp=b1\n",
    "        x=x_tmp_1\n",
    "print(\"最大值:\",tmp,\"\\n\")\n",
    "print(\"分类结果:\\n\",x)\n",
    "# x = ini_clustering(3,2**system)\n",
    "# tmp=0\n",
    "\n",
    "# for j in range(2**(phase+2)):\n",
    "#     x_tmp1,x_tmp2=neighbourhood(x)\n",
    "#     x_tmp_1=x_tmp1.copy()\n",
    "#     x_tmp_2=x_tmp2.copy()\n",
    "#     x_tmp1=normalized(x_tmp1)\n",
    "#     x_tmp2=normalized(x_tmp2)\n",
    "#     m1=x_tmp1.dot(x_tmp1.T)\n",
    "#     m2=x_tmp2.dot(x_tmp2.T)\n",
    "#     b1=np.trace(np.dot(m1,rho))\n",
    "#     b2=np.trace(np.dot(m2,rho))\n",
    "#     if abs(b1) >tmp :\n",
    "#         if abs(b1)>abs(b2):\n",
    "#             tmp=b1\n",
    "#             x=x_tmp_1\n",
    "#         else:\n",
    "#             tmp=b2\n",
    "#             x=x_tmp_2\n",
    "#     elif  abs(b2)>tmp:\n",
    "#         if abs(b2)>abs(b1):\n",
    "#             tmp=b2\n",
    "#             x=x_tmp_2\n",
    "#         else:\n",
    "#             tmp=b1\n",
    "#             x=x_tmp_1\n",
    "# print(\"最大值:\",tmp,\"\\n\")\n",
    "# print(\"分类结果:\\n\",x)"
   ]
  },
  {
   "cell_type": "code",
   "execution_count": 43,
   "metadata": {},
   "outputs": [],
   "source": [
    "point1=[]\n",
    "point2=[]\n",
    "for i in range(2**system):\n",
    "    if x[i][0] == 1:\n",
    "        point1.append((moon[0][i:i+1,:]).tolist()[0])\n",
    "    elif x[i][0] == 0:\n",
    "        point2.append((moon[0][i:i+1,:]).tolist()[0])\n",
    "point1=np.array(point1)\n",
    "point2=np.array(point2)\n",
    "# point1=[]\n",
    "# point2=[]\n",
    "# point3=[]\n",
    "# for i in range(2**system):\n",
    "#     if x[i][0] == 1:\n",
    "#         point1.append((aniso[0][i:i+1,:]).tolist()[0])\n",
    "#     elif x[i][1] == 1:\n",
    "#         point2.append((aniso[0][i:i+1,:]).tolist()[0])\n",
    "#     elif x[i][2] == 1:\n",
    "#          point3.append((aniso[0][i:i+1,:]).tolist()[0])\n",
    "# point1=np.array(point1)\n",
    "# point2=np.array(point2)\n",
    "# point3=np.array(point3)"
   ]
  },
  {
   "cell_type": "code",
   "execution_count": 44,
   "metadata": {},
   "outputs": [],
   "source": [
    "# \"#F781BF\" 粉色\"#377EB8\"蓝色\"#FF7F00\"橘色"
   ]
  },
  {
   "cell_type": "code",
   "execution_count": 45,
   "metadata": {},
   "outputs": [
    {
     "data": {
      "image/png": "[encoded data removed]",
      "text/plain": [
       "<Figure size 432x288 with 1 Axes>"
      ]
     },
     "metadata": {
      "needs_background": "light"
     },
     "output_type": "display_data"
    }
   ],
   "source": [
    "plt.scatter(point1[:,0:1],point1[:,1:2],color=\"#377EB8\",alpha = 1,zorder=2)\n",
    "plt.scatter(point2[:,0:1],point2[:,1:2],color=\"#FF7F00\",alpha = 1,zorder=2)\n",
    "# plt.scatter(point3[:,0:1],point3[:,1:2],color=\"#F781BF\",alpha = 1,zorder=2)\n",
    "plt.show()\n",
    "#plt.savefig(\"High 32.png\",dpi=600)"
   ]
  },
  {
   "cell_type": "code",
   "execution_count": 50,
   "metadata": {},
   "outputs": [
    {
     "data": {
      "text/plain": [
       "array([-8.93907518e-17, -3.84983877e-17,  6.79410017e-17,  1.20513071e-03,\n",
       "        1.66187787e-03,  4.72547711e-03,  6.33140078e-03,  1.04946549e-02,\n",
       "        1.52785629e-02,  1.74792723e-02,  2.49824957e-02,  2.63064281e-02,\n",
       "        3.48968617e-02,  4.29153663e-02,  4.66231474e-02,  5.22620715e-02,\n",
       "        7.01797388e-02,  8.01528923e-02,  8.18370016e-02,  8.20552097e-02,\n",
       "        8.74288190e-02,  9.37009311e-02,  1.00669993e-01,  1.15695863e-01,\n",
       "        1.21560704e-01,  1.27447817e-01,  1.34529317e-01,  1.50270621e-01,\n",
       "        1.59980280e-01,  1.61198873e-01,  1.67238445e-01,  1.76490101e-01,\n",
       "        1.78370501e-01,  1.81526195e-01,  1.94147544e-01,  2.00543078e-01,\n",
       "        2.09232225e-01,  2.14410028e-01,  2.19772605e-01,  2.20348840e-01,\n",
       "        2.20935346e-01,  2.26796471e-01,  2.28641566e-01,  2.47669151e-01,\n",
       "        2.48708684e-01,  2.58471485e-01,  2.72727273e-01,  2.73084037e-01,\n",
       "        2.76992677e-01,  2.78607998e-01,  2.83354894e-01,  2.85186794e-01,\n",
       "        2.89355908e-01,  2.90913065e-01,  3.02171431e-01,  3.03092255e-01,\n",
       "        3.12448162e-01,  3.16000287e-01,  3.16180467e-01,  3.25480634e-01,\n",
       "        3.26640036e-01,  3.30384291e-01,  3.30853655e-01,  3.33356560e-01,\n",
       "        3.42476884e-01,  3.53177656e-01,  3.57429230e-01,  3.59759905e-01,\n",
       "        3.62769962e-01,  3.63253880e-01,  3.63636364e-01,  3.67154768e-01,\n",
       "        3.67335110e-01,  3.75775616e-01,  3.77329986e-01,  3.80577156e-01,\n",
       "        3.82808761e-01,  3.87128425e-01,  3.88533593e-01,  3.90315870e-01,\n",
       "        3.92089997e-01,  3.94993649e-01,  3.95074724e-01,  3.97050445e-01,\n",
       "        3.98895689e-01,  4.02306859e-01,  4.08630759e-01,  4.08863637e-01,\n",
       "        4.09090909e-01,  4.09090909e-01,  4.09090909e-01,  4.12271960e-01,\n",
       "        4.14987169e-01,  4.17417842e-01,  4.21416656e-01,  4.22652993e-01,\n",
       "        4.25702885e-01,  4.29893410e-01,  4.30284730e-01,  4.31418258e-01,\n",
       "        4.33134812e-01,  4.33150788e-01,  4.33701151e-01,  4.36856485e-01,\n",
       "        4.38809165e-01,  4.45507744e-01,  4.47006614e-01,  4.47365925e-01,\n",
       "        4.51693800e-01,  4.54111260e-01,  4.54545455e-01,  4.55427951e-01,\n",
       "        4.58448946e-01,  4.59149826e-01,  4.60989548e-01,  4.61369826e-01,\n",
       "        4.61733137e-01,  4.68676467e-01,  4.69407749e-01,  4.71096588e-01,\n",
       "        4.71141065e-01,  4.75496080e-01,  4.78129788e-01,  4.79267934e-01,\n",
       "        4.80668554e-01,  4.81993365e-01,  4.85014533e-01,  4.85185222e-01,\n",
       "        4.86301518e-01,  4.87040864e-01,  4.91235905e-01,  4.92871776e-01,\n",
       "        4.94665917e-01,  4.94950446e-01,  4.96965560e-01,  4.98921740e-01,\n",
       "        5.00000000e-01,  5.00000000e-01,  5.00000000e-01,  5.00000000e-01,\n",
       "        5.00000000e-01,  5.00233276e-01,  5.01518238e-01,  5.02544951e-01,\n",
       "        5.04863936e-01,  5.05130733e-01,  5.06709481e-01,  5.07608783e-01,\n",
       "        5.08095268e-01,  5.13166961e-01,  5.13515236e-01,  5.14244950e-01,\n",
       "        5.14757124e-01,  5.16308493e-01,  5.18010589e-01,  5.18529553e-01,\n",
       "        5.20071099e-01,  5.22296584e-01,  5.22344862e-01,  5.22526831e-01,\n",
       "        5.25940321e-01,  5.27810286e-01,  5.30012578e-01,  5.30131004e-01,\n",
       "        5.31745309e-01,  5.33377619e-01,  5.34962074e-01,  5.35214146e-01,\n",
       "        5.43713170e-01,  5.44836595e-01,  5.45454545e-01,  5.45454545e-01,\n",
       "        5.45454545e-01,  5.45454545e-01,  5.45454545e-01,  5.45454545e-01,\n",
       "        5.45454545e-01,  5.45454545e-01,  5.45454545e-01,  5.45454545e-01,\n",
       "        5.45454545e-01,  5.45454545e-01,  5.45454545e-01,  5.45454545e-01,\n",
       "        5.45454545e-01,  5.45454545e-01,  5.45454545e-01,  5.45454545e-01,\n",
       "        5.45454545e-01,  5.45454545e-01,  5.45454545e-01,  5.45454545e-01,\n",
       "        5.45454545e-01,  5.48077245e-01,  5.49451968e-01,  5.49746005e-01,\n",
       "        5.50449551e-01,  5.50844516e-01,  5.52542436e-01,  5.53082762e-01,\n",
       "        5.53766999e-01,  5.54464172e-01,  5.55227531e-01,  5.56133777e-01,\n",
       "        5.56907335e-01,  5.57003967e-01,  5.58969060e-01,  5.59590822e-01,\n",
       "        5.60212494e-01,  5.60378208e-01,  5.62522610e-01,  5.64246480e-01,\n",
       "        5.65345909e-01,  5.65748317e-01,  5.66393813e-01,  5.66589962e-01,\n",
       "        5.67473581e-01,  5.67774981e-01,  5.68442268e-01,  5.71195899e-01,\n",
       "        5.72479580e-01,  5.72512413e-01,  5.72944017e-01,  5.74084681e-01,\n",
       "        5.76861121e-01,  5.77350090e-01,  5.77881949e-01,  5.79399659e-01,\n",
       "        5.80238245e-01,  5.83434090e-01,  5.84731630e-01,  5.84952192e-01,\n",
       "        5.87760638e-01,  5.89555632e-01,  5.93131732e-01,  5.94545988e-01,\n",
       "        5.95180286e-01,  5.98557617e-01,  6.00747360e-01,  6.01515528e-01,\n",
       "        6.04116378e-01,  6.05673100e-01,  6.08668766e-01,  6.09543079e-01,\n",
       "        6.17724347e-01,  6.19687629e-01,  6.20046374e-01,  6.20566376e-01,\n",
       "        6.22041878e-01,  6.24125024e-01,  6.24557753e-01,  6.24791865e-01,\n",
       "        6.32365143e-01,  6.36501107e-01,  6.50880223e-01,  6.53319237e-01])"
      ]
     },
     "execution_count": 50,
     "metadata": {},
     "output_type": "execute_result"
    }
   ],
   "source": [
    "v"
   ]
  },
  {
   "cell_type": "code",
   "execution_count": 51,
   "metadata": {},
   "outputs": [],
   "source": [
    "#绿#4DAF4A 蓝#377EB8 橙#FF7F00 粉#F781BF"
   ]
  },
  {
   "cell_type": "code",
   "execution_count": 52,
   "metadata": {},
   "outputs": [
    {
     "data": {
      "text/plain": [
       "(0.9999999999996804+0j)"
      ]
     },
     "execution_count": 52,
     "metadata": {},
     "output_type": "execute_result"
    }
   ],
   "source": [
    "state3=state2.copy()\n",
    "m3=np.outer(w[:,0],w[:,0])+np.outer(w[:,1],w[:,1])+np.outer(w[:,2],w[:,2])\n",
    "# for i in range(2**phase):\n",
    "#     state3[i*2**(2*system):(i+1)*2**(2*system)]=HYH(m1,state3[i*2**(2*system):(i+1)*2**(2*system)])\n",
    "\n",
    "np.vdot(state2,state3)"
   ]
  },
  {
   "cell_type": "code",
   "execution_count": 53,
   "metadata": {},
   "outputs": [],
   "source": [
    "# n_samples =128\n",
    "# random_state = 3\n",
    "# X, y = datasets.make_blobs(n_samples=n_samples, random_state=random_state,centers=3)\n",
    "# transformation = [[0.6, -0.6], [-0.4, 0.9]]\n",
    "# X_aniso = np.dot(X, transformation)\n",
    "# aniso = (X_aniso, y)\n",
    "# plt.scatter(aniso[0][:,0:1],aniso[0][:,1:2],color=\"#F781BF\",alpha = 1,zorder=2)\n",
    "# W=gendata(128,aniso,k=8)\n",
    "# for i in range(128):\n",
    "#     z1=np.zeros((2,1))\n",
    "#     z2=np.zeros((2,1))\n",
    "#     for j in range(128):\n",
    "#         if W[i,j]!=0:\n",
    "#             z1[0],z2[0]=aniso[0][i]\n",
    "#             z1[1],z2[1]=aniso[0][j]\n",
    "#             plt.plot(z1,z2,color=\"#808080\",alpha = 0.5,zorder=1) \n",
    "# plt.show()"
   ]
  },
  {
   "cell_type": "code",
   "execution_count": 54,
   "metadata": {},
   "outputs": [],
   "source": [
    "# varied = datasets.make_blobs(n_samples=64,\n",
    "#                              cluster_std=[1,1,1],\n",
    "#                              random_state=3)\n",
    "# plt.scatter(varied[0][:,0:1],varied[0][:,1:2],color=\"#F781BF\",alpha = 1)"
   ]
  }
 ],
 "metadata": {
  "kernelspec": {
   "display_name": "Python 3.8.13 ('Qiskit')",
   "language": "python",
   "name": "python3"
  },
  "language_info": {
   "codemirror_mode": {
    "name": "ipython",
    "version": 3
   },
   "file_extension": ".py",
   "mimetype": "text/x-python",
   "name": "python",
   "nbconvert_exporter": "python",
   "pygments_lexer": "ipython3",
   "version": "3.8.13"
  },
  "orig_nbformat": 2,
  "vscode": {
   "interpreter": {
    "hash": "a502e2e3c6dc99cd586602222b75ebda085dd054ae085a9feaabc121f3d0ecd1"
   }
  }
 },
 "nbformat": 4,
 "nbformat_minor": 2
}
